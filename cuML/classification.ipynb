{
 "cells": [
  {
   "cell_type": "markdown",
   "metadata": {},
   "source": [
    "# Peformance Comparison of cuML and scikit-learn\n",
    "This notebook compares the performance of cuML and scikit-learn. The comparisons are conducted on datasets of identical sizes. The notebook primarily demonstrates the speedup factor that users can experience when similar machine learning algorithms from scikit-learn are run on GPUs using cuML.\n",
    "\n"
   ]
  },
  {
   "cell_type": "code",
   "execution_count": 1,
   "metadata": {},
   "outputs": [],
   "source": [
    "import cuml\n",
    "from cupy import asnumpy\n",
    "from joblib import dump, load"
   ]
  },
  {
   "cell_type": "code",
   "execution_count": 2,
   "metadata": {},
   "outputs": [
    {
     "name": "stderr",
     "output_type": "stream",
     "text": [
      "/home/yerzhan/dissertation/env/lib/python3.10/site-packages/cuml/internals/api_decorators.py:344: UserWarning: For reproducible results in Random Forest Classifier or for almost reproducible results in Random Forest Regressor, n_streams=1 is recommended. If n_streams is > 1, results may vary due to stream/thread timing differences, even when random_state is set\n",
      "  return func(**kwargs)\n"
     ]
    },
    {
     "name": "stdout",
     "output_type": "stream",
     "text": [
      " cuml accuracy:  0.9949600100517273\n",
      " sklearn accuracy :  0.99496\n",
      "cuML Random Forest classification training time 0.12621426582336426 seconds\n"
     ]
    }
   ],
   "source": [
    "from cuml.datasets.classification import make_classification\n",
    "from cuml.model_selection import train_test_split\n",
    "from cuml.ensemble import RandomForestClassifier as cuRF\n",
    "from sklearn.metrics import accuracy_score\n",
    "import time\n",
    "\n",
    "# synthetic dataset dimensions\n",
    "n_samples = 100000\n",
    "n_features = 10\n",
    "n_classes = 2\n",
    "\n",
    "# random forest depth and size\n",
    "n_estimators = 25\n",
    "max_depth = 10\n",
    "\n",
    "# generate synthetic data [ binary classification task ]\n",
    "X, y = make_classification ( n_classes = n_classes,\n",
    "                             n_features = n_features,\n",
    "                             n_samples = n_samples,\n",
    "                             random_state = 0 )\n",
    "\n",
    "X_train, X_test, y_train, y_test = train_test_split( X, y, random_state = 0 )\n",
    "\n",
    "model = cuRF( max_depth = max_depth,\n",
    "              n_estimators = n_estimators,\n",
    "              random_state  = 0 )\n",
    "\n",
    "start_time = time.time()\n",
    "\n",
    "trained_RF = model.fit ( X_train, y_train )\n",
    "\n",
    "end_time = time.time()  \n",
    "\n",
    "# Time taken for cuML model training\n",
    "cuml_training_time = end_time - start_time\n",
    "\n",
    "predictions = model.predict ( X_test )\n",
    "\n",
    "cu_score = cuml.metrics.accuracy_score( y_test, predictions )\n",
    "sk_score = accuracy_score( asnumpy( y_test ), asnumpy( predictions ) )\n",
    "\n",
    "print( \" cuml accuracy: \", cu_score )\n",
    "print( \" sklearn accuracy : \", sk_score )\n",
    "print(\"cuML Random Forest classification training time\", cuml_training_time, \"seconds\")\n",
    "\n",
    "# save\n",
    "dump( trained_RF, 'RF.model')\n",
    "\n",
    "# to reload the model uncomment the line below\n",
    "loaded_model = load('RF.model')"
   ]
  },
  {
   "cell_type": "code",
   "execution_count": 3,
   "metadata": {},
   "outputs": [
    {
     "name": "stdout",
     "output_type": "stream",
     "text": [
      "scikit-learn's accuracy: 0.9936\n",
      "scikit-learn's training time: 3.826442241668701 seconds\n"
     ]
    }
   ],
   "source": [
    "from cuml.datasets.classification import make_classification\n",
    "from sklearn.model_selection import train_test_split\n",
    "from sklearn.ensemble import RandomForestClassifier\n",
    "from sklearn.metrics import accuracy_score\n",
    "import time\n",
    "\n",
    "# synthetic dataset dimensions\n",
    "n_samples = 100000\n",
    "n_features = 10\n",
    "n_classes = 2\n",
    "\n",
    "# random forest depth and size\n",
    "n_estimators = 25\n",
    "max_depth = 10\n",
    "\n",
    "# generate synthetic data [binary classification task]\n",
    "# X, y = make_classification(n_classes=n_classes,\n",
    "#                            n_features=n_features,\n",
    "#                            n_samples=n_samples,\n",
    "#                            random_state=0)\n",
    "\n",
    "# Split the data into training and testing sets\n",
    "X_train, X_test, y_train, y_test = train_test_split(asnumpy(X), asnumpy(y), random_state = 0 )\n",
    "\n",
    "# Create and train the model using scikit-learn's RandomForestClassifier\n",
    "sk_model = RandomForestClassifier(n_estimators=n_estimators,\n",
    "                                  max_depth=max_depth,\n",
    "                                  random_state=0)\n",
    "\n",
    "start_time = time.time()  # Start time for scikit-learn model training\n",
    "\n",
    "sk_model.fit(X_train, y_train)\n",
    "\n",
    "end_time = time.time()  # End time for scikit-learn model training\n",
    "\n",
    "# Time taken for scikit-learn model training\n",
    "sk_learning_time = end_time - start_time\n",
    "\n",
    "# Predictions with scikit-learn model\n",
    "predictions = sk_model.predict(X_test)\n",
    "\n",
    "# Accuracy score calculation with scikit-learn\n",
    "sk_score = accuracy_score(y_test, predictions)\n",
    "\n",
    "# Print scikit-learn results\n",
    "print(\"scikit-learn's accuracy:\", sk_score)\n",
    "print(\"scikit-learn's training time:\", sk_learning_time, \"seconds\")"
   ]
  },
  {
   "cell_type": "markdown",
   "metadata": {},
   "source": [
    "## Results comparison"
   ]
  },
  {
   "cell_type": "markdown",
   "metadata": {},
   "source": [
    "cuML's Randof Forest classification training time: **~0.12 seconds**\n",
    "\n",
    "cpu's training time of scikit learn RF classification model: **~3.82 seconds**\n",
    "\n",
    "cuML training is approximately `**32 times faster**` than scikit-learn classification RF model on 100K samples and 10 features"
   ]
  }
 ],
 "metadata": {
  "kernelspec": {
   "display_name": "Python 3",
   "language": "python",
   "name": "python3"
  },
  "language_info": {
   "codemirror_mode": {
    "name": "ipython",
    "version": 3
   },
   "file_extension": ".py",
   "mimetype": "text/x-python",
   "name": "python",
   "nbconvert_exporter": "python",
   "pygments_lexer": "ipython3",
   "version": "3.10.12"
  }
 },
 "nbformat": 4,
 "nbformat_minor": 2
}
