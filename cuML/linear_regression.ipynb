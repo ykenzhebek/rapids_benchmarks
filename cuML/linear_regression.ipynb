{
 "cells": [
  {
   "cell_type": "markdown",
   "metadata": {},
   "source": [
    "# Peformance Comparison of cuML and scikit-learn for regression\n",
    "\n",
    "This notebook compares the performance of cuML and scikit-learn. The comparisons are conducted on datasets of identical sizes. The notebook primarily demonstrates the speedup factor that users can experience when similar machine learning algorithms from scikit-learn are run on GPUs using cuML.\n",
    "\n"
   ]
  },
  {
   "cell_type": "markdown",
   "metadata": {},
   "source": [
    "# Introduction to cuML\n",
    "\n",
    "cuML is a powerful suite of machine learning algorithms designed to accelerate data science and analytical tasks using GPUs. It provides practitioners with a familiar API similar to scikit-learn's, making it easy to fit, predict, and transform data without needing to program directly on a GPU.\n",
    "\n",
    "## Why cuML?\n",
    "\n",
    "As datasets continue to grow larger, traditional CPU-based algorithms can become slow and inefficient. cuML offers a solution by leveraging the parallel processing power of GPUs. With cuML, data is initially loaded onto the GPU, enabling compute tasks to be performed directly on the GPU, resulting in faster and more efficient processing.\n",
    "\n",
    "## Key Features\n",
    "\n",
    "- **GPU Acceleration**: cuML harnesses the computational power of GPUs to accelerate machine learning tasks.\n",
    "- **Familiar API**: The API of cuML closely mirrors that of scikit-learn, making it easy for users to transition to GPU-accelerated workflows.\n",
    "- **Streamlined Workflow**: With cuML, users can seamlessly perform common tasks such as fitting models, making predictions, and transforming data, all without the need to write GPU-specific code.\n",
    "\n",
    "## Use Cases\n",
    "\n",
    "- **Large Datasets**: cuML is particularly well-suited for working with large datasets where traditional CPU-based algorithms may struggle to scale.\n",
    "- **High-Performance Computing**: Users can leverage cuML for high-performance computing tasks requiring fast and efficient machine learning algorithms.\n",
    "- **Data Science and Analytics**: Whether it's exploratory data analysis, model training, or predictive analytics, cuML empowers data scientists and analysts to work more efficiently and effectively.\n",
    "\n",
    "In summary, cuML offers a fast and efficient solution for machine learning on GPUs, providing practitioners with the tools they need to tackle large-scale data science and analytical tasks.\n"
   ]
  },
  {
   "cell_type": "code",
   "execution_count": 1,
   "metadata": {},
   "outputs": [],
   "source": [
    "import cuml\n",
    "from cupy import asnumpy\n",
    "from joblib import dump, load"
   ]
  },
  {
   "cell_type": "code",
   "execution_count": 2,
   "metadata": {},
   "outputs": [],
   "source": [
    "from cuml.datasets import make_regression\n",
    "from cuml.model_selection import train_test_split\n",
    "from cuml.linear_model import LinearRegression as cuLR\n",
    "from sklearn.metrics import r2_score"
   ]
  },
  {
   "cell_type": "code",
   "execution_count": 3,
   "metadata": {},
   "outputs": [
    {
     "name": "stdout",
     "output_type": "stream",
     "text": [
      "Shape of X_reg (100000, 256) and y_reg (100000, 1) and Type (dtype('float32'), dtype('float32')) \n",
      "\n",
      "cuml's r2 score :  1.0\n",
      "sklearn's r2 score :  0.999999999994969\n",
      "cuML's training time: 0.018104076385498047 seconds\n"
     ]
    },
    {
     "name": "stderr",
     "output_type": "stream",
     "text": [
      "/home/yerzhan/.local/lib/python3.10/site-packages/cuml/internals/api_decorators.py:382: UserWarning: Starting from version 23.08, the new 'copy_X' parameter defaults to 'True', ensuring a copy of X is created after passing it to fit(), preventing any changes to the input, but with increased memory usage. This represents a change in behavior from previous versions. With `copy_X=False` a copy might still be created if necessary. Explicitly set 'copy_X' to either True or False to suppress this warning.\n",
      "  return init_func(self, *args, **filtered_kwargs)\n"
     ]
    },
    {
     "data": {
      "text/plain": [
       "['LR.model']"
      ]
     },
     "execution_count": 3,
     "metadata": {},
     "output_type": "execute_result"
    }
   ],
   "source": [
    "import time \n",
    "\n",
    "n_samples = 100000\n",
    "n_features = 256\n",
    "n_info = 70\n",
    "\n",
    "X_reg, y_reg = make_regression( n_samples = n_samples,\n",
    "                                n_features = n_features,\n",
    "                                n_informative = n_info,\n",
    "                                random_state = 123 )\n",
    "print(f'Shape of X_reg {X_reg.shape} and y_reg {y_reg.shape} and Type {X_reg.dtype, y_reg.dtype} \\n')\n",
    "\n",
    "X_reg_train, X_reg_test, y_reg_train, y_reg_test = train_test_split( X_reg,\n",
    "                                                                     y_reg,\n",
    "                                                                     train_size = 0.8,\n",
    "                                                                     random_state = 10 )\n",
    "cuml_reg_model = cuLR( fit_intercept = True,\n",
    "                       normalize = True,\n",
    "                       algorithm = 'eig' ) # use an eigendecomposition of the covariance matrix;\n",
    "\n",
    "start_time = time.time()\n",
    "trained_LR = cuml_reg_model.fit( X_reg_train, y_reg_train )\n",
    "end_time = time.time()\n",
    "\n",
    "# Time taken for cuML model training\n",
    "cuml_training_time = end_time - start_time\n",
    "\n",
    "cu_preds = trained_LR.predict( X_reg_test )\n",
    "\n",
    "cu_r2 = cuml.metrics.r2_score( y_reg_test, cu_preds )\n",
    "sk_r2 = r2_score( asnumpy( y_reg_test ), asnumpy( cu_preds ) )\n",
    "\n",
    "print(\"cuml's r2 score : \", cu_r2)\n",
    "print(\"sklearn's r2 score : \", sk_r2)\n",
    "print(\"cuML's training time:\", cuml_training_time, \"seconds\")\n",
    "\n",
    "\n",
    "# save and reload\n",
    "dump( trained_LR, 'LR.model')\n",
    "\n",
    "# to reload the model uncomment the line below\n",
    "# loaded_model = load('LR.model')"
   ]
  },
  {
   "cell_type": "markdown",
   "metadata": {},
   "source": [
    "## Scikit-learn Linear Regression model on CPU"
   ]
  },
  {
   "cell_type": "code",
   "execution_count": 4,
   "metadata": {},
   "outputs": [
    {
     "name": "stdout",
     "output_type": "stream",
     "text": [
      "scikit-learn's r2 score: 0.9999999999977812\n",
      "scikit-learn's training time: 0.5428879261016846 seconds\n"
     ]
    }
   ],
   "source": [
    "from sklearn.model_selection import train_test_split\n",
    "from sklearn.linear_model import LinearRegression\n",
    "from sklearn.metrics import r2_score\n",
    "import numpy as np\n",
    "import time\n",
    "\n",
    "n_samples = 100000\n",
    "n_features = 256\n",
    "n_info = 70\n",
    "\n",
    "X_reg, y_reg = make_regression(n_samples=n_samples,\n",
    "                                n_features=n_features,\n",
    "                                n_informative=n_info,\n",
    "                                random_state=123)\n",
    "\n",
    "X_reg_train, X_reg_test, y_reg_train, y_reg_test = train_test_split(asnumpy(X_reg),\n",
    "                                                                    asnumpy(y_reg),\n",
    "                                                                    train_size=0.8,\n",
    "                                                                    random_state=10)\n",
    "\n",
    "start_time = time.time()  \n",
    "\n",
    "sk_reg_model = LinearRegression()\n",
    "sk_reg_model.fit(X_reg_train, y_reg_train)\n",
    "\n",
    "end_time = time.time()  \n",
    "\n",
    "\n",
    "sk_learning_time = end_time - start_time\n",
    "\n",
    "\n",
    "sk_preds = sk_reg_model.predict(X_reg_test)\n",
    "\n",
    "\n",
    "sk_r2 = r2_score(y_reg_test, sk_preds)\n",
    "\n",
    "\n",
    "print(\"scikit-learn's r2 score:\", sk_r2)\n",
    "print(\"scikit-learn's training time:\", sk_learning_time, \"seconds\")\n"
   ]
  },
  {
   "cell_type": "markdown",
   "metadata": {},
   "source": [
    "## Results comparison"
   ]
  },
  {
   "cell_type": "markdown",
   "metadata": {},
   "source": [
    "cuML's training time: **~0.018 seconds**\n",
    "\n",
    "cpu's training time of scikit learn linear regression model: **~0.543 seconds**\n",
    "\n",
    "cuML training is approximately `**30 times faster**` than scikit-learn regression model on 100K samples and 256 features, which corresponds to the acceleration table on the [rapids.ai website](https://rapids.ai/)"
   ]
  },
  {
   "cell_type": "code",
   "execution_count": null,
   "metadata": {},
   "outputs": [],
   "source": []
  }
 ],
 "metadata": {
  "kernelspec": {
   "display_name": "Python 3",
   "language": "python",
   "name": "python3"
  },
  "language_info": {
   "codemirror_mode": {
    "name": "ipython",
    "version": 3
   },
   "file_extension": ".py",
   "mimetype": "text/x-python",
   "name": "python",
   "nbconvert_exporter": "python",
   "pygments_lexer": "ipython3",
   "version": "3.10.12"
  }
 },
 "nbformat": 4,
 "nbformat_minor": 2
}
